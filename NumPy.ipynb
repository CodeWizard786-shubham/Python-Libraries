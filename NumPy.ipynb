{
 "cells": [
  {
   "attachments": {},
   "cell_type": "markdown",
   "metadata": {},
   "source": [
    "# Numpy Programs"
   ]
  },
  {
   "attachments": {},
   "cell_type": "markdown",
   "metadata": {},
   "source": [
    "'''\n",
    "@Author: Shubham shirke\n",
    "@Date: 2023-06-23 12:30:30\n",
    "@Last Modified by: shubham shirke\n",
    "@Last Modified time: 2023-06-23 17:00:30\n",
    "@Title : Python Library numpy programs\n",
    "''' \n"
   ]
  },
  {
   "attachments": {},
   "cell_type": "markdown",
   "metadata": {},
   "source": [
    "Import Libraries"
   ]
  },
  {
   "cell_type": "code",
   "execution_count": 1,
   "metadata": {},
   "outputs": [],
   "source": [
    "import numpy as np"
   ]
  },
  {
   "cell_type": "code",
   "execution_count": 2,
   "metadata": {},
   "outputs": [],
   "source": [
    "# Implement logging\n",
    "import logging\n",
    "import sys\n",
    "logging.basicConfig(level=logging.INFO, format='%(asctime)s - %(levelname)s - %(message)s',\n",
    "                    handlers= [logging.FileHandler(\"numpy.log\"),\n",
    "                               logging.StreamHandler(sys.stdout)])\n",
    "\n",
    "# Create a logger\n",
    "logger = logging.getLogger(__name__)\n"
   ]
  },
  {
   "attachments": {},
   "cell_type": "markdown",
   "metadata": {},
   "source": [
    "1.Write a Python program to convert a list of numeric value into a one-dimensional NumPy array."
   ]
  },
  {
   "cell_type": "code",
   "execution_count": 3,
   "metadata": {},
   "outputs": [
    {
     "name": "stdout",
     "output_type": "stream",
     "text": [
      "[ 12.23  13.32 100.    36.32]\n"
     ]
    }
   ],
   "source": [
    "\n",
    "\n",
    "array = np.array([12.23,13.32,100,36.32])\n",
    "print(array)"
   ]
  },
  {
   "attachments": {},
   "cell_type": "markdown",
   "metadata": {},
   "source": [
    "2. Create a 3x3 matrix with values ranging from 2 to 10."
   ]
  },
  {
   "cell_type": "code",
   "execution_count": 4,
   "metadata": {},
   "outputs": [
    {
     "name": "stdout",
     "output_type": "stream",
     "text": [
      "[[ 2  3  4]\n",
      " [ 5  6  7]\n",
      " [ 8  9 10]]\n"
     ]
    }
   ],
   "source": [
    "\n",
    "\n",
    "matrix = np.array([[2,3,4],[5,6,7],[8,9,10]])\n",
    "print(matrix)"
   ]
  },
  {
   "attachments": {},
   "cell_type": "markdown",
   "metadata": {},
   "source": [
    "3.Write a Python program to create a null vector of size 10 and update sixth value to 11."
   ]
  },
  {
   "cell_type": "code",
   "execution_count": 5,
   "metadata": {},
   "outputs": [
    {
     "name": "stdout",
     "output_type": "stream",
     "text": [
      "[ 0  0  0  0  0  0 11  0  0  0]\n"
     ]
    }
   ],
   "source": [
    "\n",
    "\n",
    "null_vector = np.array([0,0,0,0,0,0,0,0,0,0])\n",
    "null_vector[6] = 11\n",
    "print(null_vector)\n"
   ]
  },
  {
   "attachments": {},
   "cell_type": "markdown",
   "metadata": {},
   "source": [
    "4. Write a Python program to reverse an array (first element becomes last)."
   ]
  },
  {
   "cell_type": "code",
   "execution_count": 6,
   "metadata": {},
   "outputs": [
    {
     "name": "stdout",
     "output_type": "stream",
     "text": [
      "Reversed Array: [37 36 35 34 33 32 31 30 29 28 27 26 25 24 23 22 21 20 19 18 17 16 15 14\n",
      " 13 12]\n"
     ]
    }
   ],
   "source": [
    "\n",
    "\n",
    "array = np.array([12,13,14,15,16,17,18,19,20,21,22,23,24,25,26,27,28,29,30,31,32,33,34,35,36,37])\n",
    "reverse_array = np.flip(array)\n",
    "print(f\"Reversed Array: {reverse_array}\")"
   ]
  },
  {
   "attachments": {},
   "cell_type": "markdown",
   "metadata": {},
   "source": [
    "5.Write a Python program to create a 2d array with 1 on the border and 0 inside."
   ]
  },
  {
   "cell_type": "code",
   "execution_count": 7,
   "metadata": {},
   "outputs": [
    {
     "name": "stdout",
     "output_type": "stream",
     "text": [
      "Original array:\n",
      "[[1. 1. 1. 1. 1.]\n",
      " [1. 1. 1. 1. 1.]\n",
      " [1. 1. 1. 1. 1.]\n",
      " [1. 1. 1. 1. 1.]\n",
      " [1. 1. 1. 1. 1.]]\n",
      "1 on the border and 0 inside in the array\n",
      "[[1. 1. 1. 1. 1.]\n",
      " [1. 0. 0. 0. 1.]\n",
      " [1. 0. 0. 0. 1.]\n",
      " [1. 0. 0. 0. 1.]\n",
      " [1. 1. 1. 1. 1.]]\n"
     ]
    }
   ],
   "source": [
    "\n",
    "\n",
    "original_array = np.ones((5,5))\n",
    "print(f\"Original array:\\n{original_array}\")\n",
    "print(\"1 on the border and 0 inside in the array\")\n",
    "original_array[1:-1,1:-1] = 0\n",
    "print(original_array)\n"
   ]
  },
  {
   "attachments": {},
   "cell_type": "markdown",
   "metadata": {},
   "source": [
    "6. Write a Python program to add a border (filled with 0's) around an existing array."
   ]
  },
  {
   "cell_type": "code",
   "execution_count": 8,
   "metadata": {},
   "outputs": [
    {
     "name": "stdout",
     "output_type": "stream",
     "text": [
      "Original array:\n",
      "[[1. 1. 1.]\n",
      " [1. 1. 1.]\n",
      " [1. 1. 1.]]\n",
      "0 on the border and 1 inside in the array\n",
      "[[0. 0. 0. 0. 0.]\n",
      " [0. 1. 1. 1. 0.]\n",
      " [0. 1. 1. 1. 0.]\n",
      " [0. 1. 1. 1. 0.]\n",
      " [0. 0. 0. 0. 0.]]\n"
     ]
    }
   ],
   "source": [
    "\n",
    "original_array = np.ones((3,3))\n",
    "print(f\"Original array:\\n{original_array}\")\n",
    "print(\"0 on the border and 1 inside in the array\")\n",
    "new_array = np.pad(original_array,pad_width=1,mode='constant',constant_values=0)\n",
    "print(new_array)"
   ]
  },
  {
   "attachments": {},
   "cell_type": "markdown",
   "metadata": {},
   "source": [
    "7.Write a Python program to create a 8x8 matrix and fill it with a checkerboard pattern."
   ]
  },
  {
   "cell_type": "code",
   "execution_count": 9,
   "metadata": {},
   "outputs": [
    {
     "name": "stdout",
     "output_type": "stream",
     "text": [
      "[[0 0 0 0 0 0 0 0]\n",
      " [0 0 0 0 0 0 0 0]\n",
      " [0 0 0 0 0 0 0 0]\n",
      " [0 0 0 0 0 0 0 0]\n",
      " [0 0 0 0 0 0 0 0]\n",
      " [0 0 0 0 0 0 0 0]\n",
      " [0 0 0 0 0 0 0 0]\n",
      " [0 0 0 0 0 0 0 0]]\n",
      "\n",
      "[[0 1 0 1 0 1 0 1]\n",
      " [1 0 1 0 1 0 1 0]\n",
      " [0 1 0 1 0 1 0 1]\n",
      " [1 0 1 0 1 0 1 0]\n",
      " [0 1 0 1 0 1 0 1]\n",
      " [1 0 1 0 1 0 1 0]\n",
      " [0 1 0 1 0 1 0 1]\n",
      " [1 0 1 0 1 0 1 0]]\n"
     ]
    }
   ],
   "source": [
    "\n",
    "array = np.zeros((8,8),dtype=int)\n",
    "print(array)\n",
    "print()\n",
    "array[1::2,::2] = 1\n",
    "array[::2,1::2] = 1\n",
    "print(array)"
   ]
  },
  {
   "attachments": {},
   "cell_type": "markdown",
   "metadata": {},
   "source": [
    "8.Write a Python program to convert a list and tuple into arrays."
   ]
  },
  {
   "cell_type": "code",
   "execution_count": 10,
   "metadata": {},
   "outputs": [
    {
     "name": "stdout",
     "output_type": "stream",
     "text": [
      "[1 2 3 4 5 6]\n",
      "[[8 4 6]\n",
      " [1 2 3]]\n"
     ]
    }
   ],
   "source": [
    "list1 = [1,2,3,4,5,6]\n",
    "list_array = np.array(list1,dtype=int)\n",
    "print(list_array)\n",
    "\n",
    "tuple_1  = ([8,4,6],[1,2,3])\n",
    "tuple_array = np.array(tuple_1)\n",
    "print(tuple_array)"
   ]
  },
  {
   "attachments": {},
   "cell_type": "markdown",
   "metadata": {},
   "source": [
    "9. Write a Python program to append values to the end of an array.\n"
   ]
  },
  {
   "cell_type": "code",
   "execution_count": 11,
   "metadata": {},
   "outputs": [
    {
     "name": "stdout",
     "output_type": "stream",
     "text": [
      "Original_array: [10, 20, 30]\n",
      "New concatenated array: [10 20 30 40 50 60 70 80 90]\n"
     ]
    }
   ],
   "source": [
    "import numpy as np\n",
    "original_array = [10,20,30]\n",
    "print(f\"Original_array: {original_array}\")\n",
    "\n",
    "new_array = np.append(original_array,[[40,50,60],[70,80,90]])\n",
    "print(f\"New concatenated array: {new_array}\")"
   ]
  },
  {
   "attachments": {},
   "cell_type": "markdown",
   "metadata": {},
   "source": [
    "10.Write a Python program to find the real and imaginary parts of an array of complex numbers."
   ]
  },
  {
   "cell_type": "code",
   "execution_count": 12,
   "metadata": {},
   "outputs": [
    {
     "name": "stdout",
     "output_type": "stream",
     "text": [
      "Real part: [1.         0.70710678]\n",
      "Imaginary part: [0.         0.70710678]\n"
     ]
    }
   ],
   "source": [
    "import numpy as np\n",
    "\n",
    "Original_array = np.array([1.00000000+0.j,0.70710678+0.70710678j])\n",
    "real_part = Original_array.real\n",
    "print(f\"Real part: {real_part}\")\n",
    "imaginary_part = Original_array.imag\n",
    "print(f\"Imaginary part: {imaginary_part}\")"
   ]
  },
  {
   "attachments": {},
   "cell_type": "markdown",
   "metadata": {},
   "source": [
    "11. Write a Python program to find the number of elements of an array, length of one\n",
    "array element in bytes and total bytes consumed by the elements."
   ]
  },
  {
   "cell_type": "code",
   "execution_count": 13,
   "metadata": {},
   "outputs": [
    {
     "name": "stdout",
     "output_type": "stream",
     "text": [
      "Size of the array: 9\n",
      "Length of one array element in bytes: 8\n",
      "Total bytes consumed by the elements: 72\n"
     ]
    }
   ],
   "source": [
    "import numpy as np\n",
    "\n",
    "array = np.array([23,3,42,3,55,45,7,53,5],dtype=np.float64)\n",
    "size = array.size\n",
    "print(f\"Size of the array: {size}\")\n",
    "bytes = array.itemsize\n",
    "print(f\"Length of one array element in bytes: {bytes}\")\n",
    "total_bytes = array.nbytes\n",
    "print(f\"Total bytes consumed by the elements: {total_bytes}\")"
   ]
  },
  {
   "attachments": {},
   "cell_type": "markdown",
   "metadata": {},
   "source": [
    "12. Write a Python program to find common values between two arrays."
   ]
  },
  {
   "cell_type": "code",
   "execution_count": 14,
   "metadata": {},
   "outputs": [
    {
     "name": "stdout",
     "output_type": "stream",
     "text": [
      "Common values between two are: [10 40]\n"
     ]
    }
   ],
   "source": [
    "import numpy as np\n",
    "array_1 = np.array([0,10,20,40,60])\n",
    "array_2 = np.array([10,30,40])\n",
    "common_values = np.intersect1d(array_1,array_2)\n",
    "print(f\"Common values between two are: {common_values}\")\n"
   ]
  },
  {
   "attachments": {},
   "cell_type": "markdown",
   "metadata": {},
   "source": [
    "13. Write a Python program to find the set difference of two arrays. The set difference\n",
    "will return the sorted, unique values in array1 that are not in array2.\n"
   ]
  },
  {
   "cell_type": "code",
   "execution_count": 15,
   "metadata": {},
   "outputs": [
    {
     "name": "stdout",
     "output_type": "stream",
     "text": [
      "The differece betweem twp arrays is: [ 0 20 60 80]\n",
      "2023-06-26 10:58:24,375 - INFO - Difference succesfully found\n"
     ]
    }
   ],
   "source": [
    "import numpy as np\n",
    "import logging\n",
    "try:\n",
    "    array_1 = np.array([0,10,20,40,60,80])\n",
    "    array_2 = np.array([10,30,40,50,70,90])\n",
    "    difference = np.setdiff1d(array_1,array_2)\n",
    "    print(f\"The differece betweem twp arrays is: {difference}\")\n",
    "    logging.info(\"Difference succesfully found\")\n",
    "except Exception as e:\n",
    "    logger.error(str(e))"
   ]
  },
  {
   "attachments": {},
   "cell_type": "markdown",
   "metadata": {},
   "source": [
    "14. Write a Python program to find the set exclusive-or of two arrays. Set exclusive-or\n",
    "will return the sorted, unique values that are in only one (not both) of the input arrays.\n"
   ]
  },
  {
   "cell_type": "code",
   "execution_count": 16,
   "metadata": {},
   "outputs": [
    {
     "name": "stdout",
     "output_type": "stream",
     "text": [
      "[ 0 20 30 50 60 70 80]\n",
      "2023-06-26 10:58:24,392 - INFO - Succesfully found unique values\n"
     ]
    }
   ],
   "source": [
    "import numpy as np\n",
    "try:\n",
    "    Array1 = np.array([0,10,20,40,60,80])\n",
    "    Array2 = np.array([10,30,40,50,70])\n",
    "    Array_3 = np.setxor1d(Array1,Array2)\n",
    "    print(Array_3)\n",
    "    logger.info(\"Succesfully found unique values\")\n",
    "except Exception as e:\n",
    "    logger.warning(str(e))"
   ]
  },
  {
   "attachments": {},
   "cell_type": "markdown",
   "metadata": {},
   "source": [
    "15. Write a Python program compare two arrays using numpy.\n"
   ]
  },
  {
   "cell_type": "code",
   "execution_count": 17,
   "metadata": {},
   "outputs": [
    {
     "name": "stdout",
     "output_type": "stream",
     "text": [
      "[False False]\n",
      "[False False]\n",
      "[ True  True]\n",
      "[ True  True]\n",
      "2023-06-26 10:58:24,407 - INFO - Succesfully compared\n"
     ]
    }
   ],
   "source": [
    "import numpy as np\n",
    "\n",
    "try:\n",
    "    Array_a = np.array([1,2])\n",
    "    Array_b = np.array([4,5])\n",
    "\n",
    "    result_1 = np.greater(Array_a,Array_b)\n",
    "    print(result_1)\n",
    "    result_2 = np.greater_equal(Array_a,Array_b)\n",
    "    print(result_2)\n",
    "    result_3 = np.less(Array_a,Array_b)\n",
    "    print(result_3)\n",
    "    result_4 = np.less_equal(Array_a,Array_b)\n",
    "    print(result_4)\n",
    "    logger.info(\"Succesfully compared\")\n",
    "except Exception as e:\n",
    "    logger.warning(str(e))\n"
   ]
  },
  {
   "attachments": {},
   "cell_type": "markdown",
   "metadata": {},
   "source": [
    "16.Write a Python program to save a NumPy array to a text file."
   ]
  },
  {
   "cell_type": "code",
   "execution_count": 18,
   "metadata": {},
   "outputs": [
    {
     "name": "stdout",
     "output_type": "stream",
     "text": [
      "[ 1  2  3  4  5  6  7  8  9 10]\n",
      "2023-06-26 10:58:24,429 - INFO - Array successfully added to file\n"
     ]
    }
   ],
   "source": [
    "import numpy as np\n",
    "from numpy import savetxt \n",
    "try:\n",
    "    array_for_file = np.arange(1,11) # create a array from 1 to 10\n",
    "    print(array_for_file)\n",
    "    # save to txt file as full precision\n",
    "    savetxt('numpy.txt',array_for_file,delimiter=',')\n",
    "    logger.info(\"Array successfully added to file\")\n",
    "except Exception as e:\n",
    "    logger.error(str(e))\n",
    "    \n"
   ]
  },
  {
   "attachments": {},
   "cell_type": "markdown",
   "metadata": {},
   "source": [
    "17. Write a Python program to create a contiguous flattened array.\n"
   ]
  },
  {
   "cell_type": "code",
   "execution_count": 19,
   "metadata": {},
   "outputs": [
    {
     "name": "stdout",
     "output_type": "stream",
     "text": [
      "[10 20 30 20 40 50]\n",
      "2023-06-26 10:58:24,454 - INFO - array collapsed to single dimension\n"
     ]
    }
   ],
   "source": [
    "import numpy as np\n",
    "try:\n",
    "    array = np.array([[10,20,30],[20,40,50]])\n",
    "    # reduce the dimentionality\n",
    "    flatten_array = np.ndarray.flatten(array)\n",
    "    print(flatten_array)\n",
    "    logger.info(\"array collapsed to single dimension\")\n",
    "except Exception as e:\n",
    "    logger.warning(str(e))"
   ]
  },
  {
   "attachments": {},
   "cell_type": "markdown",
   "metadata": {},
   "source": [
    "18. Write a Python program to change the data type of an array.\n"
   ]
  },
  {
   "cell_type": "code",
   "execution_count": 20,
   "metadata": {},
   "outputs": [
    {
     "name": "stdout",
     "output_type": "stream",
     "text": [
      "Data type of the array is: int32\n",
      "New type: float64\n",
      "[[ 2.  4.  6.]\n",
      " [ 6.  8. 10.]]\n",
      "2023-06-26 10:58:24,470 - INFO - Array data type succesfully converted\n"
     ]
    }
   ],
   "source": [
    "import numpy as np\n",
    "\n",
    "try:\n",
    "    int_array = np.array([[ 2, 4, 6],[ 6, 8, 10]])\n",
    "    print(f\"Data type of the array is: {int_array.dtype}\")\n",
    "    # convert to float data type using astype\n",
    "    float_array = int_array.astype('float64')\n",
    "    print(f\"New type: {float_array.dtype}\\n{float_array}\")\n",
    "    logger.info(\"Array data type succesfully converted\")\n",
    "\n",
    "except Exception as e:\n",
    "    logger.warning(str(e))"
   ]
  },
  {
   "attachments": {},
   "cell_type": "markdown",
   "metadata": {},
   "source": [
    "19. Write a Python program to create a 3-D array with ones on a diagonal and zeros elsewhere.\n"
   ]
  },
  {
   "cell_type": "code",
   "execution_count": 21,
   "metadata": {},
   "outputs": [
    {
     "name": "stdout",
     "output_type": "stream",
     "text": [
      "[[1. 0. 0.]\n",
      " [0. 1. 0.]\n",
      " [0. 0. 1.]]\n",
      "2023-06-26 10:58:24,484 - INFO - succssfully 3-D array with ones on a diagonal and zeros elsewhere created\n"
     ]
    }
   ],
   "source": [
    "import numpy as np\n",
    "\n",
    "try:\n",
    "    diagonal_array = np.eye(3,3)\n",
    "    print(diagonal_array)\n",
    "    logger.info(\"succssfully 3-D array with ones on a diagonal and zeros elsewhere created\")\n",
    "except Exception as e:\n",
    "    logger.warning(str(e))"
   ]
  },
  {
   "attachments": {},
   "cell_type": "markdown",
   "metadata": {},
   "source": [
    "20. Write a Python program to create an array which looks like below array."
   ]
  },
  {
   "cell_type": "code",
   "execution_count": 32,
   "metadata": {},
   "outputs": [
    {
     "name": "stdout",
     "output_type": "stream",
     "text": [
      "2023-06-26 11:20:35,111 - ERROR - tri() missing 1 required positional argument: 'N'\n"
     ]
    }
   ],
   "source": [
    "import numpy as np\n",
    "try:\n",
    "    # create triangular matrix with dimension 4X3\n",
    "    pattern = np.tri(4,3,-1)\n",
    "    print(pattern)\n",
    "    logger.info(\"Triangular pattern succesfully created\")\n",
    "except Exception as e:\n",
    "    logger.error(str(e))\n"
   ]
  },
  {
   "attachments": {},
   "cell_type": "markdown",
   "metadata": {},
   "source": [
    "21. Write a Python program to concatenate two 2-dimensional arrays."
   ]
  },
  {
   "cell_type": "code",
   "execution_count": 23,
   "metadata": {},
   "outputs": [
    {
     "name": "stdout",
     "output_type": "stream",
     "text": [
      "[[ 0  1  3  0  2  4]\n",
      " [ 5  7  9  6  8 10]]\n",
      "2023-06-26 10:58:24,532 - INFO - 2-Dimentional concetenated sucessfully\n"
     ]
    }
   ],
   "source": [
    "import numpy as np\n",
    "\n",
    "try:\n",
    "    list1 = [[0, 1, 3], [5, 7, 9]]\n",
    "    list2 = [[0, 2, 4], [6, 8, 10]]\n",
    "    array1 = np.array(list1)\n",
    "    array2 = np.array(list2)\n",
    "    # concatenate two list\n",
    "    concat_array = np.concatenate((array1,array2),axis=1)\n",
    "    print(concat_array)\n",
    "    logger.info(\"2-Dimentional concetenated sucessfully\")\n",
    "\n",
    "except Exception as e:\n",
    "    logger.error(str(e))"
   ]
  },
  {
   "attachments": {},
   "cell_type": "markdown",
   "metadata": {},
   "source": [
    "22. Write a Python program to make an array immutable (read-only)."
   ]
  },
  {
   "cell_type": "code",
   "execution_count": 24,
   "metadata": {},
   "outputs": [
    {
     "name": "stdout",
     "output_type": "stream",
     "text": [
      "[ 1  2  3  4  5  6  7  8  9 10]\n",
      "2023-06-26 10:58:24,547 - ERROR - assignment destination is read-only\n"
     ]
    }
   ],
   "source": [
    "import numpy as np\n",
    "\n",
    "try:\n",
    "    array = np.arange(1,11)\n",
    "    print(array)\n",
    "\n",
    "    # Make the array read-only\n",
    "    array.flags.writeable = False\n",
    "\n",
    "    # Try to modify the array\n",
    "    array[0] = 10\n",
    "    \n",
    "except Exception as e:\n",
    "    logger.error(str(e))"
   ]
  },
  {
   "attachments": {},
   "cell_type": "markdown",
   "metadata": {},
   "source": [
    "23. Write a Python program to create an array of (3, 4) shape, multiply every element\n",
    "value by 3 and display the new array.\n"
   ]
  },
  {
   "cell_type": "code",
   "execution_count": 25,
   "metadata": {},
   "outputs": [
    {
     "name": "stdout",
     "output_type": "stream",
     "text": [
      "[[ 0  3  6  9]\n",
      " [12 15 18 21]\n",
      " [24 27 30 33]]\n",
      "2023-06-26 10:58:24,566 - INFO - Successfully executed\n"
     ]
    }
   ],
   "source": [
    "import numpy as np\n",
    "\n",
    "try:\n",
    "    # Create a 1D array of values from 0 to 11\n",
    "    arr_1d = np.arange(12)\n",
    "\n",
    "    # Reshape the 1D array to a 3x4 matrix\n",
    "    arr_2d = arr_1d.reshape(3, 4)\n",
    "\n",
    "    multiplication_array = arr_2d*3\n",
    "\n",
    "    print(multiplication_array)\n",
    "    logger.info(\"Successfully executed\")\n",
    "\n",
    "except Exception as e:\n",
    "    logger.error(str(e))"
   ]
  },
  {
   "attachments": {},
   "cell_type": "markdown",
   "metadata": {},
   "source": [
    "24. Write a Python program to convert a NumPy array into Python list structure.\n"
   ]
  },
  {
   "cell_type": "code",
   "execution_count": 26,
   "metadata": {},
   "outputs": [
    {
     "name": "stdout",
     "output_type": "stream",
     "text": [
      "Array:\n",
      "[[0 1]\n",
      " [2 3]\n",
      " [4 5]]\n",
      "Array to list is: \n",
      "[[0, 1], [2, 3], [4, 5]]\n",
      "2023-06-26 10:58:24,580 - INFO - Suceesfully array converted to list\n"
     ]
    }
   ],
   "source": [
    "import numpy as np\n",
    "\n",
    "try:\n",
    "    print(\"Array:\")\n",
    "    array = np.array([[0,1],[2,3],[4,5]])\n",
    "    print(array)\n",
    "    # convert array to list\n",
    "    array_list = array.tolist()\n",
    "    print(\"Array to list is: \")\n",
    "    print(array_list)\n",
    "    logger.info(\"Suceesfully array converted to list\")\n",
    "except Exception as e:\n",
    "    logger.error(str(e))\n"
   ]
  },
  {
   "attachments": {},
   "cell_type": "markdown",
   "metadata": {},
   "source": [
    "25. Write a Python program to convert a NumPy array into Python list structure with precision 3."
   ]
  },
  {
   "cell_type": "code",
   "execution_count": 27,
   "metadata": {},
   "outputs": [
    {
     "name": "stdout",
     "output_type": "stream",
     "text": [
      "List values with precision 3 :[0.262, 0.528, 0.572, 0.593, 0.783, 0.697, 0.354, 0.995, 0.069, 0.547]\n",
      "2023-06-26 10:58:24,596 - INFO - Successfully converted array to list with precision 3\n"
     ]
    }
   ],
   "source": [
    "import numpy as np\n",
    "\n",
    "try:\n",
    "    array = np.array([0.26153123, 0.52760141, 0.5718299, 0.5927067, 0.7831874, 0.69746349, 0.35399976, 0.99469633, 0.0694458, 0.54711478])\n",
    "    # round with precision 3\n",
    "    list_arr = np.round(array,3).tolist()\n",
    "\n",
    "    print(f\"List values with precision 3 :{list_arr}\")\n",
    "    logger.info(\"Successfully converted array to list with precision 3\")\n",
    "\n",
    "except Exception as e:\n",
    "    logger.error(str(e))"
   ]
  },
  {
   "attachments": {},
   "cell_type": "markdown",
   "metadata": {},
   "source": [
    "26. Write a Python program to suppresses the use of scientific notation for small numbers in numpy array.\n"
   ]
  },
  {
   "cell_type": "code",
   "execution_count": 28,
   "metadata": {},
   "outputs": [
    {
     "name": "stdout",
     "output_type": "stream",
     "text": [
      "New array: [1.   +0.j    0.707+0.707j]\n",
      "2023-06-26 10:58:24,611 - INFO - Succesfully printed scientific notation for small numbers with precision 3\n"
     ]
    }
   ],
   "source": [
    "try:\n",
    "    original_array = np.array([ 1.60000000e-10, 1.60000000e+00, 1.20000000e+03, 2.35000000e-01])\n",
    "    np.set_printoptions(suppress=True,precision=3)\n",
    "    print(f\"New array: {Original_array}\")\n",
    "    logger.info(\"Succesfully printed scientific notation for small numbers with precision 3\")\n",
    "\n",
    "except Exception as e:\n",
    "    logger.error(str(e))"
   ]
  },
  {
   "attachments": {},
   "cell_type": "markdown",
   "metadata": {},
   "source": [
    "27. Write a Python program to how to add an extra column to an numpy array."
   ]
  },
  {
   "cell_type": "code",
   "execution_count": 29,
   "metadata": {},
   "outputs": [
    {
     "name": "stdout",
     "output_type": "stream",
     "text": [
      "Original array:\n",
      "[[1 2]\n",
      " [3 4]\n",
      " [5 6]]\n",
      "Array with extra column:\n",
      "[[1 2 7]\n",
      " [3 4 8]\n",
      " [5 6 9]]\n",
      "2023-06-26 10:58:24,627 - INFO - Successfully column added to array\n"
     ]
    }
   ],
   "source": [
    "import numpy as np\n",
    "\n",
    "try:\n",
    "    arr = np.array([[1, 2], [3, 4], [5, 6]])\n",
    "\n",
    "    extra_col = np.array([7, 8, 9])\n",
    "\n",
    "    # adding extra column to the original array using numpy.concatenate() function\n",
    "    arr_with_extra_col = np.concatenate((arr, extra_col.reshape(-1, 1)), axis=1)\n",
    "\n",
    "    print(\"Original array:\")\n",
    "    print(arr)\n",
    "    print(\"Array with extra column:\")\n",
    "    print(arr_with_extra_col)\n",
    "    logger.info(\"Successfully column added to array\")\n",
    "except Exception as e:\n",
    "    logger.error(str(e))\n"
   ]
  },
  {
   "attachments": {},
   "cell_type": "markdown",
   "metadata": {},
   "source": [
    "28. Write a Python program to remove specific elements in a numpy array.\n"
   ]
  },
  {
   "cell_type": "code",
   "execution_count": 30,
   "metadata": {},
   "outputs": [
    {
     "name": "stdout",
     "output_type": "stream",
     "text": [
      "Original array: [0 1 2 3 4 5 6 7 8 9]\n",
      "Array after deletion: [0 1 2 3 4 8 9]\n"
     ]
    }
   ],
   "source": [
    "import numpy as np\n",
    "\n",
    "try:\n",
    "    array = np.arange(0,10)\n",
    "    print(f\"Original array: {array}\")\n",
    "    element = [5,6,7]\n",
    "    # delete elements from array.\n",
    "    new_array = np.delete(array,element)\n",
    "    print(f\"Array after deletion: {new_array}\")\n",
    "\n",
    "except Exception as e:\n",
    "    logger.error(str(e))\n"
   ]
  }
 ],
 "metadata": {
  "kernelspec": {
   "display_name": "Python 3",
   "language": "python",
   "name": "python3"
  },
  "language_info": {
   "codemirror_mode": {
    "name": "ipython",
    "version": 3
   },
   "file_extension": ".py",
   "mimetype": "text/x-python",
   "name": "python",
   "nbconvert_exporter": "python",
   "pygments_lexer": "ipython3",
   "version": "3.8.10"
  },
  "orig_nbformat": 4
 },
 "nbformat": 4,
 "nbformat_minor": 2
}
